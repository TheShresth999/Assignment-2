{
 "cells": [
  {
   "cell_type": "markdown",
   "id": "afb2f85f",
   "metadata": {},
   "source": [
    "ANSWER 1-"
   ]
  },
  {
   "cell_type": "code",
   "execution_count": 59,
   "id": "3df184cf",
   "metadata": {},
   "outputs": [],
   "source": [
    "import re"
   ]
  },
  {
   "cell_type": "code",
   "execution_count": 60,
   "id": "3445df82",
   "metadata": {},
   "outputs": [],
   "source": [
    "a = 'Python Exercises, PHP exercises.'"
   ]
  },
  {
   "cell_type": "code",
   "execution_count": 61,
   "id": "1e0e9795",
   "metadata": {},
   "outputs": [
    {
     "name": "stdout",
     "output_type": "stream",
     "text": [
      "Python:Exercises::PHP:exercises:\n"
     ]
    }
   ],
   "source": [
    "print(re.sub(\"[ ,.]\",\":\", a))"
   ]
  },
  {
   "cell_type": "markdown",
   "id": "6cc47c3b",
   "metadata": {},
   "source": [
    "ANSWER 2-"
   ]
  },
  {
   "cell_type": "code",
   "execution_count": 67,
   "id": "a1cf9e65",
   "metadata": {},
   "outputs": [],
   "source": [
    "import pandas as pd\n",
    "import re"
   ]
  },
  {
   "cell_type": "code",
   "execution_count": 68,
   "id": "257ef0b9",
   "metadata": {},
   "outputs": [],
   "source": [
    "Dictionary= {'SUMMARY':['hello, world!', 'XXXXX test', '123four, five:; six...']}"
   ]
  },
  {
   "cell_type": "code",
   "execution_count": 69,
   "id": "9b004d9a",
   "metadata": {},
   "outputs": [],
   "source": [
    "df= pd.DataFrame(Dictionary)\n",
    "df['SUMMARY'] = df['SUMMARY'].apply(lambda x: re.sub(r'[^A-Za-z\\s]|XXXXX','', x))"
   ]
  },
  {
   "cell_type": "code",
   "execution_count": 70,
   "id": "a305f0ca",
   "metadata": {},
   "outputs": [
    {
     "data": {
      "text/html": [
       "<div>\n",
       "<style scoped>\n",
       "    .dataframe tbody tr th:only-of-type {\n",
       "        vertical-align: middle;\n",
       "    }\n",
       "\n",
       "    .dataframe tbody tr th {\n",
       "        vertical-align: top;\n",
       "    }\n",
       "\n",
       "    .dataframe thead th {\n",
       "        text-align: right;\n",
       "    }\n",
       "</style>\n",
       "<table border=\"1\" class=\"dataframe\">\n",
       "  <thead>\n",
       "    <tr style=\"text-align: right;\">\n",
       "      <th></th>\n",
       "      <th>SUMMARY</th>\n",
       "    </tr>\n",
       "  </thead>\n",
       "  <tbody>\n",
       "    <tr>\n",
       "      <th>0</th>\n",
       "      <td>hello world</td>\n",
       "    </tr>\n",
       "    <tr>\n",
       "      <th>1</th>\n",
       "      <td>test</td>\n",
       "    </tr>\n",
       "    <tr>\n",
       "      <th>2</th>\n",
       "      <td>four five six</td>\n",
       "    </tr>\n",
       "  </tbody>\n",
       "</table>\n",
       "</div>"
      ],
      "text/plain": [
       "         SUMMARY\n",
       "0    hello world\n",
       "1           test\n",
       "2  four five six"
      ]
     },
     "execution_count": 70,
     "metadata": {},
     "output_type": "execute_result"
    }
   ],
   "source": [
    "df"
   ]
  },
  {
   "cell_type": "markdown",
   "id": "f650bdfa",
   "metadata": {},
   "source": [
    "ANSWER 3-"
   ]
  },
  {
   "cell_type": "code",
   "execution_count": 71,
   "id": "18516239",
   "metadata": {},
   "outputs": [],
   "source": [
    "import re"
   ]
  },
  {
   "cell_type": "code",
   "execution_count": 72,
   "id": "9cfa5150",
   "metadata": {},
   "outputs": [],
   "source": [
    "def data(string):  \n",
    "    pattern = re.compile(r'\\b\\w{4,}\\b')\n",
    "    matches = pattern.findall(string)\n",
    "    return matches"
   ]
  },
  {
   "cell_type": "code",
   "execution_count": 73,
   "id": "187288e9",
   "metadata": {},
   "outputs": [],
   "source": [
    "string = \" This test is done to get words of four and more length \"       #testing\n",
    "a = data(string)"
   ]
  },
  {
   "cell_type": "code",
   "execution_count": 74,
   "id": "ae322586",
   "metadata": {},
   "outputs": [
    {
     "data": {
      "text/plain": [
       "['This', 'test', 'done', 'words', 'four', 'more', 'length']"
      ]
     },
     "execution_count": 74,
     "metadata": {},
     "output_type": "execute_result"
    }
   ],
   "source": [
    "a"
   ]
  },
  {
   "cell_type": "markdown",
   "id": "f5ed74c8",
   "metadata": {},
   "source": [
    "ANSWER 4-"
   ]
  },
  {
   "cell_type": "code",
   "execution_count": 75,
   "id": "10bcf9a9",
   "metadata": {},
   "outputs": [],
   "source": [
    "import re"
   ]
  },
  {
   "cell_type": "code",
   "execution_count": 76,
   "id": "59273ef1",
   "metadata": {},
   "outputs": [],
   "source": [
    "def inputfun(str):\n",
    "    input = re.compile(r'\\b\\w{3,5}\\b')\n",
    "    find = input.findall(str)\n",
    "    return find"
   ]
  },
  {
   "cell_type": "code",
   "execution_count": 77,
   "id": "493e8927",
   "metadata": {},
   "outputs": [],
   "source": [
    "xyz = \"aa aaa aaaa aaaaa bbb bbbbb bbbbbb ddd klm\"           #testing\n",
    "x = inputfun(xyz)"
   ]
  },
  {
   "cell_type": "code",
   "execution_count": 78,
   "id": "69c1e9b7",
   "metadata": {},
   "outputs": [
    {
     "data": {
      "text/plain": [
       "['aaa', 'aaaa', 'aaaaa', 'bbb', 'bbbbb', 'ddd', 'klm']"
      ]
     },
     "execution_count": 78,
     "metadata": {},
     "output_type": "execute_result"
    }
   ],
   "source": [
    "x"
   ]
  },
  {
   "cell_type": "markdown",
   "id": "6afa9fe5",
   "metadata": {},
   "source": [
    "ANSWER 5-"
   ]
  },
  {
   "cell_type": "code",
   "execution_count": 79,
   "id": "b13c545e",
   "metadata": {},
   "outputs": [],
   "source": [
    "import re"
   ]
  },
  {
   "cell_type": "code",
   "execution_count": 80,
   "id": "ece8597a",
   "metadata": {},
   "outputs": [],
   "source": [
    "def removePara(strings):\n",
    "    pattern = re.compile (r'\\(|\\)')\n",
    "    replace = [pattern.sub('',s) for s in strings]\n",
    "    return replace"
   ]
  },
  {
   "cell_type": "code",
   "execution_count": 81,
   "id": "d8fffa4f",
   "metadata": {},
   "outputs": [],
   "source": [
    "Sample_Text = [\"example(.com)\", \"hr@fliprobo(.com)\", \"github(.com)\", \"Hello (Data Science World)\", \"Data (Scientist)\"]\n",
    "Expected_output = removePara(Sample_Text)"
   ]
  },
  {
   "cell_type": "code",
   "execution_count": 82,
   "id": "9fed5b9a",
   "metadata": {},
   "outputs": [
    {
     "data": {
      "text/plain": [
       "['example.com',\n",
       " 'hr@fliprobo.com',\n",
       " 'github.com',\n",
       " 'Hello Data Science World',\n",
       " 'Data Scientist']"
      ]
     },
     "execution_count": 82,
     "metadata": {},
     "output_type": "execute_result"
    }
   ],
   "source": [
    "Expected_output"
   ]
  },
  {
   "cell_type": "markdown",
   "id": "fa55d638",
   "metadata": {},
   "source": [
    "ANSWER 6-"
   ]
  },
  {
   "cell_type": "code",
   "execution_count": 30,
   "id": "01617d6a",
   "metadata": {},
   "outputs": [],
   "source": [
    "import re"
   ]
  },
  {
   "cell_type": "code",
   "execution_count": 31,
   "id": "ca75cc0a",
   "metadata": {},
   "outputs": [],
   "source": [
    "with open('sample.txt', 'r') as file:\n",
    "    data = file.read()"
   ]
  },
  {
   "cell_type": "code",
   "execution_count": 32,
   "id": "8e02983b",
   "metadata": {},
   "outputs": [],
   "source": [
    "New_data = re.sub(r'\\([^()]*\\)', \"\", data)"
   ]
  },
  {
   "cell_type": "code",
   "execution_count": 33,
   "id": "2e9d2c13",
   "metadata": {},
   "outputs": [],
   "source": [
    "with open('sample.txt', 'w') as file:\n",
    "    file.write(New_data)"
   ]
  },
  {
   "cell_type": "code",
   "execution_count": 34,
   "id": "47b63e80",
   "metadata": {},
   "outputs": [
    {
     "data": {
      "text/plain": [
       "'[\"example\", \"hr@fliprobo\", \"github\", \"Hello\", \"Data\"]'"
      ]
     },
     "execution_count": 34,
     "metadata": {},
     "output_type": "execute_result"
    }
   ],
   "source": [
    "data"
   ]
  },
  {
   "cell_type": "markdown",
   "id": "b9af6042",
   "metadata": {},
   "source": [
    "ANSWER 7-"
   ]
  },
  {
   "cell_type": "code",
   "execution_count": 36,
   "id": "b41247c9",
   "metadata": {},
   "outputs": [],
   "source": [
    "import re"
   ]
  },
  {
   "cell_type": "code",
   "execution_count": 38,
   "id": "cb15a679",
   "metadata": {},
   "outputs": [
    {
     "data": {
      "text/plain": [
       "'ImportanceOfRegularExpressionsInPython'"
      ]
     },
     "execution_count": 38,
     "metadata": {},
     "output_type": "execute_result"
    }
   ],
   "source": [
    "text1 = \"ImportanceOfRegularExpressionsInPython\"\n",
    "text1"
   ]
  },
  {
   "cell_type": "code",
   "execution_count": 40,
   "id": "0d075e1c",
   "metadata": {},
   "outputs": [
    {
     "name": "stdout",
     "output_type": "stream",
     "text": [
      "['Importance', 'Of', 'Regular', 'Expressions', 'In', 'Python']\n"
     ]
    }
   ],
   "source": [
    "print(re.findall('[A-Z][^A-Z]*', text1))"
   ]
  },
  {
   "cell_type": "markdown",
   "id": "7a1590cb",
   "metadata": {},
   "source": [
    "ANSWER 8-"
   ]
  },
  {
   "cell_type": "code",
   "execution_count": 46,
   "id": "044eb849",
   "metadata": {},
   "outputs": [],
   "source": [
    "import re"
   ]
  },
  {
   "cell_type": "code",
   "execution_count": 54,
   "id": "d45fadeb",
   "metadata": {},
   "outputs": [],
   "source": [
    "def Seperate(spaces):\n",
    "    pattern = r'(\\d+)([A-Za-z]+)'\n",
    "    answer = re.sub(pattern, r' \\1\\2', spaces)\n",
    "    return answer"
   ]
  },
  {
   "cell_type": "code",
   "execution_count": 55,
   "id": "cabd110f",
   "metadata": {},
   "outputs": [
    {
     "name": "stdout",
     "output_type": "stream",
     "text": [
      "RegularExpression 1IsAn 2ImportantTopic 3InPython\n"
     ]
    }
   ],
   "source": [
    "text = \"RegularExpression1IsAn2ImportantTopic3InPython\"\n",
    "output = Seperate(text)\n",
    "print(output)"
   ]
  },
  {
   "cell_type": "markdown",
   "id": "bb8f5001",
   "metadata": {},
   "source": [
    "ANSWER 9-"
   ]
  },
  {
   "cell_type": "code",
   "execution_count": 56,
   "id": "43767a29",
   "metadata": {},
   "outputs": [],
   "source": [
    "import re"
   ]
  },
  {
   "cell_type": "code",
   "execution_count": 102,
   "id": "e7e3f82c",
   "metadata": {},
   "outputs": [],
   "source": [
    "def Data1(words):\n",
    "    pattern =  re.compile(r\"(\\w)([0-9])\")\n",
    "    result = re.sub(pattern, r\"\\1 \\2\", words)\n",
    "    result = re.sub( r\"(\\d)([A-Z])\", r\"\\1 \\2\", result)\n",
    "    return result\n",
    "                 \n"
   ]
  },
  {
   "cell_type": "code",
   "execution_count": 103,
   "id": "d80bb568",
   "metadata": {},
   "outputs": [
    {
     "name": "stdout",
     "output_type": "stream",
     "text": [
      "RegularExpression 1 IsAn 2 ImportantTopic 3 InPython\n"
     ]
    }
   ],
   "source": [
    "data = \"RegularExpression1IsAn2ImportantTopic3InPython\"\n",
    "Ans = Data1(data)\n",
    "print(Ans)"
   ]
  },
  {
   "cell_type": "markdown",
   "id": "39182c0a",
   "metadata": {},
   "source": [
    "ANSWER 10-"
   ]
  },
  {
   "cell_type": "code",
   "execution_count": 104,
   "id": "49e402df",
   "metadata": {},
   "outputs": [],
   "source": [
    "import pandas as pd"
   ]
  },
  {
   "cell_type": "code",
   "execution_count": 105,
   "id": "35e423e6",
   "metadata": {},
   "outputs": [],
   "source": [
    "file_path = 'go.txt'"
   ]
  },
  {
   "cell_type": "code",
   "execution_count": 121,
   "id": "afb6aa6b",
   "metadata": {},
   "outputs": [],
   "source": [
    "df = pd.read_csv(file_path)"
   ]
  },
  {
   "cell_type": "code",
   "execution_count": 122,
   "id": "d8ce51a9",
   "metadata": {},
   "outputs": [],
   "source": [
    "df1 = pd.DataFrame(data=df)"
   ]
  },
  {
   "cell_type": "code",
   "execution_count": 132,
   "id": "8b26e4f8",
   "metadata": {},
   "outputs": [
    {
     "data": {
      "text/html": [
       "<div>\n",
       "<style scoped>\n",
       "    .dataframe tbody tr th:only-of-type {\n",
       "        vertical-align: middle;\n",
       "    }\n",
       "\n",
       "    .dataframe tbody tr th {\n",
       "        vertical-align: top;\n",
       "    }\n",
       "\n",
       "    .dataframe thead th {\n",
       "        text-align: right;\n",
       "    }\n",
       "</style>\n",
       "<table border=\"1\" class=\"dataframe\">\n",
       "  <thead>\n",
       "    <tr style=\"text-align: right;\">\n",
       "      <th></th>\n",
       "      <th>Country</th>\n",
       "      <th>Region</th>\n",
       "      <th>Happiness Rank</th>\n",
       "      <th>Happiness Score</th>\n",
       "      <th>Standard Error</th>\n",
       "      <th>Economy (GDP per Capita)</th>\n",
       "      <th>Family</th>\n",
       "      <th>Health (Life Expectancy)</th>\n",
       "      <th>Freedom</th>\n",
       "      <th>Trust (Government Corruption)</th>\n",
       "      <th>Generosity</th>\n",
       "      <th>Dystopia Residual</th>\n",
       "      <th>first_five_letters</th>\n",
       "    </tr>\n",
       "  </thead>\n",
       "  <tbody>\n",
       "    <tr>\n",
       "      <th>0</th>\n",
       "      <td>Switzerland</td>\n",
       "      <td>Western Europe</td>\n",
       "      <td>1</td>\n",
       "      <td>7.587</td>\n",
       "      <td>0.03411</td>\n",
       "      <td>1.39651</td>\n",
       "      <td>1.34951</td>\n",
       "      <td>0.94143</td>\n",
       "      <td>0.66557</td>\n",
       "      <td>0.41978</td>\n",
       "      <td>0.29678</td>\n",
       "      <td>2.51738</td>\n",
       "      <td>Switze</td>\n",
       "    </tr>\n",
       "    <tr>\n",
       "      <th>1</th>\n",
       "      <td>Iceland</td>\n",
       "      <td>Western Europe</td>\n",
       "      <td>2</td>\n",
       "      <td>7.561</td>\n",
       "      <td>0.04884</td>\n",
       "      <td>1.30232</td>\n",
       "      <td>1.40223</td>\n",
       "      <td>0.94784</td>\n",
       "      <td>0.62877</td>\n",
       "      <td>0.14145</td>\n",
       "      <td>0.43630</td>\n",
       "      <td>2.70201</td>\n",
       "      <td>Icelan</td>\n",
       "    </tr>\n",
       "    <tr>\n",
       "      <th>2</th>\n",
       "      <td>Denmark</td>\n",
       "      <td>Western Europe</td>\n",
       "      <td>3</td>\n",
       "      <td>7.527</td>\n",
       "      <td>0.03328</td>\n",
       "      <td>1.32548</td>\n",
       "      <td>1.36058</td>\n",
       "      <td>0.87464</td>\n",
       "      <td>0.64938</td>\n",
       "      <td>0.48357</td>\n",
       "      <td>0.34139</td>\n",
       "      <td>2.49204</td>\n",
       "      <td>Denmar</td>\n",
       "    </tr>\n",
       "    <tr>\n",
       "      <th>3</th>\n",
       "      <td>Norway</td>\n",
       "      <td>Western Europe</td>\n",
       "      <td>4</td>\n",
       "      <td>7.522</td>\n",
       "      <td>0.03880</td>\n",
       "      <td>1.45900</td>\n",
       "      <td>1.33095</td>\n",
       "      <td>0.88521</td>\n",
       "      <td>0.66973</td>\n",
       "      <td>0.36503</td>\n",
       "      <td>0.34699</td>\n",
       "      <td>2.46531</td>\n",
       "      <td>Norway</td>\n",
       "    </tr>\n",
       "    <tr>\n",
       "      <th>4</th>\n",
       "      <td>Canada</td>\n",
       "      <td>North America</td>\n",
       "      <td>5</td>\n",
       "      <td>7.427</td>\n",
       "      <td>0.03553</td>\n",
       "      <td>1.32629</td>\n",
       "      <td>1.32261</td>\n",
       "      <td>0.90563</td>\n",
       "      <td>0.63297</td>\n",
       "      <td>0.32957</td>\n",
       "      <td>0.45811</td>\n",
       "      <td>2.45176</td>\n",
       "      <td>Canada</td>\n",
       "    </tr>\n",
       "  </tbody>\n",
       "</table>\n",
       "</div>"
      ],
      "text/plain": [
       "       Country          Region  Happiness Rank  Happiness Score  \\\n",
       "0  Switzerland  Western Europe               1            7.587   \n",
       "1      Iceland  Western Europe               2            7.561   \n",
       "2      Denmark  Western Europe               3            7.527   \n",
       "3       Norway  Western Europe               4            7.522   \n",
       "4       Canada   North America               5            7.427   \n",
       "\n",
       "   Standard Error  Economy (GDP per Capita)   Family  \\\n",
       "0         0.03411                   1.39651  1.34951   \n",
       "1         0.04884                   1.30232  1.40223   \n",
       "2         0.03328                   1.32548  1.36058   \n",
       "3         0.03880                   1.45900  1.33095   \n",
       "4         0.03553                   1.32629  1.32261   \n",
       "\n",
       "   Health (Life Expectancy)  Freedom  Trust (Government Corruption)  \\\n",
       "0                   0.94143  0.66557                        0.41978   \n",
       "1                   0.94784  0.62877                        0.14145   \n",
       "2                   0.87464  0.64938                        0.48357   \n",
       "3                   0.88521  0.66973                        0.36503   \n",
       "4                   0.90563  0.63297                        0.32957   \n",
       "\n",
       "   Generosity  Dystopia Residual first_five_letters  \n",
       "0     0.29678            2.51738             Switze  \n",
       "1     0.43630            2.70201             Icelan  \n",
       "2     0.34139            2.49204             Denmar  \n",
       "3     0.34699            2.46531             Norway  \n",
       "4     0.45811            2.45176             Canada  "
      ]
     },
     "execution_count": 132,
     "metadata": {},
     "output_type": "execute_result"
    }
   ],
   "source": [
    "df1.head()"
   ]
  },
  {
   "cell_type": "code",
   "execution_count": 126,
   "id": "d15dbaf9",
   "metadata": {},
   "outputs": [],
   "source": [
    "df1['first_five_letters'] = df['Country'].str.slice(0, 6)"
   ]
  },
  {
   "cell_type": "code",
   "execution_count": 127,
   "id": "032127f6",
   "metadata": {},
   "outputs": [
    {
     "data": {
      "text/html": [
       "<div>\n",
       "<style scoped>\n",
       "    .dataframe tbody tr th:only-of-type {\n",
       "        vertical-align: middle;\n",
       "    }\n",
       "\n",
       "    .dataframe tbody tr th {\n",
       "        vertical-align: top;\n",
       "    }\n",
       "\n",
       "    .dataframe thead th {\n",
       "        text-align: right;\n",
       "    }\n",
       "</style>\n",
       "<table border=\"1\" class=\"dataframe\">\n",
       "  <thead>\n",
       "    <tr style=\"text-align: right;\">\n",
       "      <th></th>\n",
       "      <th>Country</th>\n",
       "      <th>Region</th>\n",
       "      <th>Happiness Rank</th>\n",
       "      <th>Happiness Score</th>\n",
       "      <th>Standard Error</th>\n",
       "      <th>Economy (GDP per Capita)</th>\n",
       "      <th>Family</th>\n",
       "      <th>Health (Life Expectancy)</th>\n",
       "      <th>Freedom</th>\n",
       "      <th>Trust (Government Corruption)</th>\n",
       "      <th>Generosity</th>\n",
       "      <th>Dystopia Residual</th>\n",
       "      <th>first_five_letters</th>\n",
       "    </tr>\n",
       "  </thead>\n",
       "  <tbody>\n",
       "    <tr>\n",
       "      <th>0</th>\n",
       "      <td>Switzerland</td>\n",
       "      <td>Western Europe</td>\n",
       "      <td>1</td>\n",
       "      <td>7.587</td>\n",
       "      <td>0.03411</td>\n",
       "      <td>1.39651</td>\n",
       "      <td>1.34951</td>\n",
       "      <td>0.94143</td>\n",
       "      <td>0.66557</td>\n",
       "      <td>0.41978</td>\n",
       "      <td>0.29678</td>\n",
       "      <td>2.51738</td>\n",
       "      <td>Switze</td>\n",
       "    </tr>\n",
       "    <tr>\n",
       "      <th>1</th>\n",
       "      <td>Iceland</td>\n",
       "      <td>Western Europe</td>\n",
       "      <td>2</td>\n",
       "      <td>7.561</td>\n",
       "      <td>0.04884</td>\n",
       "      <td>1.30232</td>\n",
       "      <td>1.40223</td>\n",
       "      <td>0.94784</td>\n",
       "      <td>0.62877</td>\n",
       "      <td>0.14145</td>\n",
       "      <td>0.43630</td>\n",
       "      <td>2.70201</td>\n",
       "      <td>Icelan</td>\n",
       "    </tr>\n",
       "    <tr>\n",
       "      <th>2</th>\n",
       "      <td>Denmark</td>\n",
       "      <td>Western Europe</td>\n",
       "      <td>3</td>\n",
       "      <td>7.527</td>\n",
       "      <td>0.03328</td>\n",
       "      <td>1.32548</td>\n",
       "      <td>1.36058</td>\n",
       "      <td>0.87464</td>\n",
       "      <td>0.64938</td>\n",
       "      <td>0.48357</td>\n",
       "      <td>0.34139</td>\n",
       "      <td>2.49204</td>\n",
       "      <td>Denmar</td>\n",
       "    </tr>\n",
       "    <tr>\n",
       "      <th>3</th>\n",
       "      <td>Norway</td>\n",
       "      <td>Western Europe</td>\n",
       "      <td>4</td>\n",
       "      <td>7.522</td>\n",
       "      <td>0.03880</td>\n",
       "      <td>1.45900</td>\n",
       "      <td>1.33095</td>\n",
       "      <td>0.88521</td>\n",
       "      <td>0.66973</td>\n",
       "      <td>0.36503</td>\n",
       "      <td>0.34699</td>\n",
       "      <td>2.46531</td>\n",
       "      <td>Norway</td>\n",
       "    </tr>\n",
       "    <tr>\n",
       "      <th>4</th>\n",
       "      <td>Canada</td>\n",
       "      <td>North America</td>\n",
       "      <td>5</td>\n",
       "      <td>7.427</td>\n",
       "      <td>0.03553</td>\n",
       "      <td>1.32629</td>\n",
       "      <td>1.32261</td>\n",
       "      <td>0.90563</td>\n",
       "      <td>0.63297</td>\n",
       "      <td>0.32957</td>\n",
       "      <td>0.45811</td>\n",
       "      <td>2.45176</td>\n",
       "      <td>Canada</td>\n",
       "    </tr>\n",
       "    <tr>\n",
       "      <th>...</th>\n",
       "      <td>...</td>\n",
       "      <td>...</td>\n",
       "      <td>...</td>\n",
       "      <td>...</td>\n",
       "      <td>...</td>\n",
       "      <td>...</td>\n",
       "      <td>...</td>\n",
       "      <td>...</td>\n",
       "      <td>...</td>\n",
       "      <td>...</td>\n",
       "      <td>...</td>\n",
       "      <td>...</td>\n",
       "      <td>...</td>\n",
       "    </tr>\n",
       "    <tr>\n",
       "      <th>153</th>\n",
       "      <td>Rwanda</td>\n",
       "      <td>Sub-Saharan Africa</td>\n",
       "      <td>154</td>\n",
       "      <td>3.465</td>\n",
       "      <td>0.03464</td>\n",
       "      <td>0.22208</td>\n",
       "      <td>0.77370</td>\n",
       "      <td>0.42864</td>\n",
       "      <td>0.59201</td>\n",
       "      <td>0.55191</td>\n",
       "      <td>0.22628</td>\n",
       "      <td>0.67042</td>\n",
       "      <td>Rwanda</td>\n",
       "    </tr>\n",
       "    <tr>\n",
       "      <th>154</th>\n",
       "      <td>Benin</td>\n",
       "      <td>Sub-Saharan Africa</td>\n",
       "      <td>155</td>\n",
       "      <td>3.340</td>\n",
       "      <td>0.03656</td>\n",
       "      <td>0.28665</td>\n",
       "      <td>0.35386</td>\n",
       "      <td>0.31910</td>\n",
       "      <td>0.48450</td>\n",
       "      <td>0.08010</td>\n",
       "      <td>0.18260</td>\n",
       "      <td>1.63328</td>\n",
       "      <td>Benin</td>\n",
       "    </tr>\n",
       "    <tr>\n",
       "      <th>155</th>\n",
       "      <td>Syria</td>\n",
       "      <td>Middle East and Northern Africa</td>\n",
       "      <td>156</td>\n",
       "      <td>3.006</td>\n",
       "      <td>0.05015</td>\n",
       "      <td>0.66320</td>\n",
       "      <td>0.47489</td>\n",
       "      <td>0.72193</td>\n",
       "      <td>0.15684</td>\n",
       "      <td>0.18906</td>\n",
       "      <td>0.47179</td>\n",
       "      <td>0.32858</td>\n",
       "      <td>Syria</td>\n",
       "    </tr>\n",
       "    <tr>\n",
       "      <th>156</th>\n",
       "      <td>Burundi</td>\n",
       "      <td>Sub-Saharan Africa</td>\n",
       "      <td>157</td>\n",
       "      <td>2.905</td>\n",
       "      <td>0.08658</td>\n",
       "      <td>0.01530</td>\n",
       "      <td>0.41587</td>\n",
       "      <td>0.22396</td>\n",
       "      <td>0.11850</td>\n",
       "      <td>0.10062</td>\n",
       "      <td>0.19727</td>\n",
       "      <td>1.83302</td>\n",
       "      <td>Burund</td>\n",
       "    </tr>\n",
       "    <tr>\n",
       "      <th>157</th>\n",
       "      <td>Togo</td>\n",
       "      <td>Sub-Saharan Africa</td>\n",
       "      <td>158</td>\n",
       "      <td>2.839</td>\n",
       "      <td>0.06727</td>\n",
       "      <td>0.20868</td>\n",
       "      <td>0.13995</td>\n",
       "      <td>0.28443</td>\n",
       "      <td>0.36453</td>\n",
       "      <td>0.10731</td>\n",
       "      <td>0.16681</td>\n",
       "      <td>1.56726</td>\n",
       "      <td>Togo</td>\n",
       "    </tr>\n",
       "  </tbody>\n",
       "</table>\n",
       "<p>158 rows × 13 columns</p>\n",
       "</div>"
      ],
      "text/plain": [
       "         Country                           Region  Happiness Rank  \\\n",
       "0    Switzerland                   Western Europe               1   \n",
       "1        Iceland                   Western Europe               2   \n",
       "2        Denmark                   Western Europe               3   \n",
       "3         Norway                   Western Europe               4   \n",
       "4         Canada                    North America               5   \n",
       "..           ...                              ...             ...   \n",
       "153       Rwanda               Sub-Saharan Africa             154   \n",
       "154        Benin               Sub-Saharan Africa             155   \n",
       "155        Syria  Middle East and Northern Africa             156   \n",
       "156      Burundi               Sub-Saharan Africa             157   \n",
       "157         Togo               Sub-Saharan Africa             158   \n",
       "\n",
       "     Happiness Score  Standard Error  Economy (GDP per Capita)   Family  \\\n",
       "0              7.587         0.03411                   1.39651  1.34951   \n",
       "1              7.561         0.04884                   1.30232  1.40223   \n",
       "2              7.527         0.03328                   1.32548  1.36058   \n",
       "3              7.522         0.03880                   1.45900  1.33095   \n",
       "4              7.427         0.03553                   1.32629  1.32261   \n",
       "..               ...             ...                       ...      ...   \n",
       "153            3.465         0.03464                   0.22208  0.77370   \n",
       "154            3.340         0.03656                   0.28665  0.35386   \n",
       "155            3.006         0.05015                   0.66320  0.47489   \n",
       "156            2.905         0.08658                   0.01530  0.41587   \n",
       "157            2.839         0.06727                   0.20868  0.13995   \n",
       "\n",
       "     Health (Life Expectancy)  Freedom  Trust (Government Corruption)  \\\n",
       "0                     0.94143  0.66557                        0.41978   \n",
       "1                     0.94784  0.62877                        0.14145   \n",
       "2                     0.87464  0.64938                        0.48357   \n",
       "3                     0.88521  0.66973                        0.36503   \n",
       "4                     0.90563  0.63297                        0.32957   \n",
       "..                        ...      ...                            ...   \n",
       "153                   0.42864  0.59201                        0.55191   \n",
       "154                   0.31910  0.48450                        0.08010   \n",
       "155                   0.72193  0.15684                        0.18906   \n",
       "156                   0.22396  0.11850                        0.10062   \n",
       "157                   0.28443  0.36453                        0.10731   \n",
       "\n",
       "     Generosity  Dystopia Residual first_five_letters  \n",
       "0       0.29678            2.51738             Switze  \n",
       "1       0.43630            2.70201             Icelan  \n",
       "2       0.34139            2.49204             Denmar  \n",
       "3       0.34699            2.46531             Norway  \n",
       "4       0.45811            2.45176             Canada  \n",
       "..          ...                ...                ...  \n",
       "153     0.22628            0.67042             Rwanda  \n",
       "154     0.18260            1.63328              Benin  \n",
       "155     0.47179            0.32858              Syria  \n",
       "156     0.19727            1.83302             Burund  \n",
       "157     0.16681            1.56726               Togo  \n",
       "\n",
       "[158 rows x 13 columns]"
      ]
     },
     "execution_count": 127,
     "metadata": {},
     "output_type": "execute_result"
    }
   ],
   "source": [
    "df1"
   ]
  },
  {
   "cell_type": "markdown",
   "id": "c7e2822f",
   "metadata": {},
   "source": [
    "QUESTION 11-"
   ]
  },
  {
   "cell_type": "code",
   "execution_count": 133,
   "id": "0d7359d4",
   "metadata": {},
   "outputs": [],
   "source": [
    "import re"
   ]
  },
  {
   "cell_type": "code",
   "execution_count": 143,
   "id": "cd0a68ae",
   "metadata": {},
   "outputs": [
    {
     "name": "stdout",
     "output_type": "stream",
     "text": [
      "Enter Data: Testing123_\n",
      "The string is valid.\n"
     ]
    }
   ],
   "source": [
    "def String_match(in_str):\n",
    "    pattern = re.compile(r'^[a-zA-Z0-9_]+$')\n",
    "    return bool(pattern.match(in_str))\n",
    "\n",
    "\n",
    "Input = input(\"Enter Data: \")\n",
    "if String_match(Input):\n",
    "    print(\"The string is valid.\")\n",
    "else:\n",
    "    print(\"The string is invalid.\")"
   ]
  },
  {
   "cell_type": "markdown",
   "id": "d8bed50b",
   "metadata": {},
   "source": [
    "QUESTION 12-"
   ]
  },
  {
   "cell_type": "code",
   "execution_count": 2,
   "id": "9a62b7f0",
   "metadata": {},
   "outputs": [
    {
     "name": "stdout",
     "output_type": "stream",
     "text": [
      "enter string data = 234qwert\n",
      "enter a number = 234\n",
      "string starts with specific number\n"
     ]
    }
   ],
   "source": [
    "import re\n",
    "inp_str = input('enter string data = ')\n",
    "inp_num = input('enter a number = ')\n",
    "case = re.match(inp_num, inp_str)\n",
    "if case:\n",
    "    print('string starts with specific number')\n",
    "else:\n",
    "    print('no match')"
   ]
  },
  {
   "cell_type": "markdown",
   "id": "679bdd32",
   "metadata": {},
   "source": [
    "QUESTION 13-"
   ]
  },
  {
   "cell_type": "code",
   "execution_count": 5,
   "id": "c7891313",
   "metadata": {},
   "outputs": [
    {
     "name": "stdout",
     "output_type": "stream",
     "text": [
      "Enter IP address = 192.168.10.000\n",
      "192.168.10.\n"
     ]
    }
   ],
   "source": [
    "import re\n",
    "input_ip = input('Enter IP address = ')\n",
    "modi_ip = re.sub('\\.0*', '.', input_ip)\n",
    "print(modi_ip)"
   ]
  },
  {
   "cell_type": "markdown",
   "id": "70ba16d0",
   "metadata": {},
   "source": [
    "QUESTION 14-"
   ]
  },
  {
   "cell_type": "code",
   "execution_count": 43,
   "id": "6fb6059a",
   "metadata": {},
   "outputs": [],
   "source": [
    "import re"
   ]
  },
  {
   "cell_type": "code",
   "execution_count": 44,
   "id": "2e0298ba",
   "metadata": {},
   "outputs": [],
   "source": [
    "file_path = \"dnt.txt\"\n",
    "with open(file_path, 'r') as file:\n",
    "    txt = file.read()"
   ]
  },
  {
   "cell_type": "code",
   "execution_count": 46,
   "id": "35468988",
   "metadata": {},
   "outputs": [
    {
     "data": {
      "text/plain": [
       "\"' On August 15th 1947 that India was declared independent from British colonialism, and the reins of control were handed over to the leaders of the Countryâ€™.\""
      ]
     },
     "execution_count": 46,
     "metadata": {},
     "output_type": "execute_result"
    }
   ],
   "source": [
    "txt"
   ]
  },
  {
   "cell_type": "code",
   "execution_count": 36,
   "id": "92e39466",
   "metadata": {},
   "outputs": [
    {
     "name": "stdout",
     "output_type": "stream",
     "text": [
      "['August 15th 1947']\n"
     ]
    }
   ],
   "source": [
    "pattern = r\"\\b([A-Z][a-z]+ \\d{1,2}(?:st|nd|rd|th)? \\d{4})\\b\"\n",
    "matches = re.findall(pattern, txt)\n",
    "print(matches)"
   ]
  },
  {
   "cell_type": "markdown",
   "id": "01b90340",
   "metadata": {},
   "source": [
    "QUESTION 15-"
   ]
  },
  {
   "cell_type": "code",
   "execution_count": 37,
   "id": "b29cc501",
   "metadata": {},
   "outputs": [],
   "source": [
    "import re"
   ]
  },
  {
   "cell_type": "code",
   "execution_count": 39,
   "id": "1f3f7be0",
   "metadata": {},
   "outputs": [
    {
     "name": "stdout",
     "output_type": "stream",
     "text": [
      "match found\n"
     ]
    }
   ],
   "source": [
    "string = 'The quick brown fox jumps over the lazy dog.'\n",
    "search = re.search('fox|dog|horse', string)\n",
    "if search:\n",
    "    print(\"match found\")\n",
    "else:\n",
    "    print(\"match not found :( \")"
   ]
  },
  {
   "cell_type": "markdown",
   "id": "1f18bb6f",
   "metadata": {},
   "source": [
    "QUESTION 16-"
   ]
  },
  {
   "cell_type": "code",
   "execution_count": 40,
   "id": "282d04f4",
   "metadata": {},
   "outputs": [],
   "source": [
    "import re"
   ]
  },
  {
   "cell_type": "code",
   "execution_count": 42,
   "id": "b1b79cd9",
   "metadata": {},
   "outputs": [
    {
     "name": "stdout",
     "output_type": "stream",
     "text": [
      "Word found and starts on - 15\n"
     ]
    }
   ],
   "source": [
    "string1 = 'The quick brown fox jumps over the lazy dog.'\n",
    "check = re.search('\\Wfox\\W', string1)\n",
    "if check:\n",
    "    print('Word found and starts on -', check.start())\n",
    "else:\n",
    "    print('no match found')"
   ]
  },
  {
   "cell_type": "markdown",
   "id": "0b0e6da5",
   "metadata": {},
   "source": [
    "QUESTION 17-"
   ]
  },
  {
   "cell_type": "code",
   "execution_count": 44,
   "id": "71f14fbe",
   "metadata": {},
   "outputs": [],
   "source": [
    "import re"
   ]
  },
  {
   "cell_type": "code",
   "execution_count": 47,
   "id": "f48dbd42",
   "metadata": {},
   "outputs": [
    {
     "name": "stdout",
     "output_type": "stream",
     "text": [
      "substring found = exercises\n"
     ]
    }
   ],
   "source": [
    "strings = \"python exercises, PHP exercises, C# exercises\"\n",
    "substring = 'exercises'\n",
    "search = re.findall(substring, strings)\n",
    "if search:\n",
    "    print('substring found','=', substring)\n",
    "else:\n",
    "    print('No substring')"
   ]
  },
  {
   "cell_type": "markdown",
   "id": "a6a307c8",
   "metadata": {},
   "source": [
    "QUESTION 18-"
   ]
  },
  {
   "cell_type": "code",
   "execution_count": 51,
   "id": "8fa6a58c",
   "metadata": {},
   "outputs": [],
   "source": [
    "import re"
   ]
  },
  {
   "cell_type": "code",
   "execution_count": 57,
   "id": "58ddc79f",
   "metadata": {},
   "outputs": [
    {
     "name": "stdout",
     "output_type": "stream",
     "text": [
      "string 'person' found at position (6, 12)\n",
      "string 'person' found at position (18, 24)\n",
      "string 'person' found at position (32, 38)\n"
     ]
    }
   ],
   "source": [
    "strings1 = 'Happy person, Sad person, Angry person'\n",
    "substring1 = 'person'\n",
    "x = re.finditer(substring1, strings1)\n",
    "for match in x:\n",
    "    print('string \\'{}\\''.format(substring1), 'found at position', match.span())"
   ]
  },
  {
   "cell_type": "markdown",
   "id": "d01c041b",
   "metadata": {},
   "source": [
    "QUESTION 19-"
   ]
  },
  {
   "cell_type": "code",
   "execution_count": 58,
   "id": "a0546180",
   "metadata": {},
   "outputs": [],
   "source": [
    "import re"
   ]
  },
  {
   "cell_type": "code",
   "execution_count": 62,
   "id": "b2311ace",
   "metadata": {},
   "outputs": [
    {
     "name": "stdout",
     "output_type": "stream",
     "text": [
      "Enter date in yyyy-mm-dd format = 2023-12-12\n",
      "Date in dd-mm-yyyy format is = 12-12-2023\n"
     ]
    }
   ],
   "source": [
    "date = input('Enter date in yyyy-mm-dd format = ')\n",
    "z = re.split('-', date)\n",
    "modi_date = '-'.join(z[::-1])\n",
    "print(\"Date in dd-mm-yyyy format is\", \"=\", modi_date)"
   ]
  },
  {
   "cell_type": "markdown",
   "id": "5c47980e",
   "metadata": {},
   "source": [
    "QUESTION 20-"
   ]
  },
  {
   "cell_type": "code",
   "execution_count": 68,
   "id": "ab1607c5",
   "metadata": {},
   "outputs": [],
   "source": [
    "import re"
   ]
  },
  {
   "cell_type": "code",
   "execution_count": 70,
   "id": "33cc2ec6",
   "metadata": {},
   "outputs": [],
   "source": [
    "def dec(data):\n",
    "    pattern = re.compile(r'\\b\\d+\\.\\d{1,2}\\b')\n",
    "    matches = pattern.findall(data)\n",
    "    return matches"
   ]
  },
  {
   "cell_type": "code",
   "execution_count": 73,
   "id": "4f7dea70",
   "metadata": {},
   "outputs": [
    {
     "name": "stdout",
     "output_type": "stream",
     "text": [
      "['01.12', '145.8', '3.01', '27.25', '0.25']\n"
     ]
    }
   ],
   "source": [
    "sample_text = \"01.12 0132.123 2.31875 145.8 3.01 27.25 0.25\"\n",
    "result = dec(sample_text)\n",
    "print(result)"
   ]
  },
  {
   "cell_type": "markdown",
   "id": "5e5da5af",
   "metadata": {},
   "source": [
    "QUESTION 21-"
   ]
  },
  {
   "cell_type": "code",
   "execution_count": 9,
   "id": "bbef84b3",
   "metadata": {},
   "outputs": [],
   "source": [
    "import re"
   ]
  },
  {
   "cell_type": "code",
   "execution_count": 10,
   "id": "35bc8943",
   "metadata": {},
   "outputs": [
    {
     "name": "stdout",
     "output_type": "stream",
     "text": [
      "Number: 123, Position: 6\n",
      "Number: 234, Position: 19\n",
      "Number: 245, Position: 38\n"
     ]
    }
   ],
   "source": [
    "def string(data):\n",
    "    pattern = re.compile(r'\\b\\d+\\b')\n",
    "    matches = pattern.finditer(data)\n",
    "    \n",
    "    for match in matches:\n",
    "        number = match.group()\n",
    "        position = match.start()\n",
    "        print(f\"Number: {number}, Position: {position}\")\n",
    "        \n",
    "sample_data = \"I got 123 in maths 234 in english and 245 in geo\"\n",
    "string(sample_data)"
   ]
  },
  {
   "cell_type": "markdown",
   "id": "a993638f",
   "metadata": {},
   "source": [
    "QUESTION 22-"
   ]
  },
  {
   "cell_type": "code",
   "execution_count": 77,
   "id": "15ade322",
   "metadata": {},
   "outputs": [],
   "source": [
    "import re"
   ]
  },
  {
   "cell_type": "code",
   "execution_count": 79,
   "id": "8c2e0f20",
   "metadata": {},
   "outputs": [
    {
     "name": "stdout",
     "output_type": "stream",
     "text": [
      "Max_value: 950\n"
     ]
    }
   ],
   "source": [
    "sample_text = 'My marks in each semester are: 947, 896, 926, 524, 734, 950, 642'\n",
    "numero = re.findall('\\d+', sample_text)\n",
    "numero = map(int, numero)\n",
    "print(\"Max_value:\",max(numero))"
   ]
  },
  {
   "cell_type": "markdown",
   "id": "68bd60c6",
   "metadata": {},
   "source": [
    "QUESTION 23-"
   ]
  },
  {
   "cell_type": "code",
   "execution_count": 105,
   "id": "71a8d273",
   "metadata": {},
   "outputs": [],
   "source": [
    "import re"
   ]
  },
  {
   "cell_type": "code",
   "execution_count": 106,
   "id": "16732f06",
   "metadata": {},
   "outputs": [],
   "source": [
    "def regex(int_string):\n",
    "    pattern = re.sub(r'([a-z])([A-Z])', r'\\1 \\2', int_string)\n",
    "    \n",
    "    return pattern\n",
    "\n",
    "sample_text = \"RegularExpressionIsAnImportantTopicInPython\"\n",
    "answer = regex(sample_text)"
   ]
  },
  {
   "cell_type": "code",
   "execution_count": 107,
   "id": "e42246a5",
   "metadata": {},
   "outputs": [
    {
     "name": "stdout",
     "output_type": "stream",
     "text": [
      "Expected output : Regular Expression Is An Important Topic In Python\n"
     ]
    }
   ],
   "source": [
    "print(\"Expected output :\", answer)"
   ]
  },
  {
   "cell_type": "markdown",
   "id": "ed70b912",
   "metadata": {},
   "source": [
    "QUESTION 24-"
   ]
  },
  {
   "cell_type": "code",
   "execution_count": 108,
   "id": "a034905f",
   "metadata": {},
   "outputs": [],
   "source": [
    "import re"
   ]
  },
  {
   "cell_type": "code",
   "execution_count": 111,
   "id": "e0d404d7",
   "metadata": {},
   "outputs": [
    {
     "name": "stdout",
     "output_type": "stream",
     "text": [
      "Enter a string: Aborigibinal\n",
      "Sequence correct: ['Aborigibinal']\n"
     ]
    }
   ],
   "source": [
    "def testing(text):\n",
    "    pattern = re.compile(r'[A-Z]+[a-z]+')\n",
    "    match = pattern.findall(text)\n",
    "    return match\n",
    "\n",
    "user_input = input(\"Enter a string: \")\n",
    "answer = testing(user_input)\n",
    "\n",
    "if answer:\n",
    "    print(\"Sequence correct:\", answer)\n",
    "else:\n",
    "    print(\"Matching sequence not found.\")\n",
    "        "
   ]
  },
  {
   "cell_type": "markdown",
   "id": "38042c5b",
   "metadata": {},
   "source": [
    "QUESTION 25-"
   ]
  },
  {
   "cell_type": "code",
   "execution_count": null,
   "id": "c3ce2ce7",
   "metadata": {},
   "outputs": [],
   "source": [
    "import re"
   ]
  },
  {
   "cell_type": "code",
   "execution_count": 8,
   "id": "74e16f42",
   "metadata": {},
   "outputs": [
    {
     "name": "stdout",
     "output_type": "stream",
     "text": [
      "Hello hello world\n"
     ]
    }
   ],
   "source": [
    "def duplicate(data):\n",
    "    pattern = r'\\b(\\w+)(?:\\W+\\1\\b)+'\n",
    "    return re.sub(pattern, r'\\1', data)\n",
    "                  \n",
    "sample_data = \"Hello hello world world\"\n",
    "print(duplicate(sample_data))"
   ]
  },
  {
   "cell_type": "markdown",
   "id": "85018ac3",
   "metadata": {},
   "source": [
    "QUESTION 26-"
   ]
  },
  {
   "cell_type": "code",
   "execution_count": 11,
   "id": "39c47d8f",
   "metadata": {},
   "outputs": [],
   "source": [
    "import re"
   ]
  },
  {
   "cell_type": "code",
   "execution_count": 24,
   "id": "85057755",
   "metadata": {},
   "outputs": [
    {
     "name": "stdout",
     "output_type": "stream",
     "text": [
      "Enter a string: Alphanumeric_123\n",
      "String ending with alphanumeric character accepted!\n"
     ]
    }
   ],
   "source": [
    "def alpha(string):\n",
    "    pattern = r'.*\\w$'\n",
    "    join = re.match(pattern, string)\n",
    "\n",
    "    if join:\n",
    "        print(\"String ending with alphanumeric character accepted!\")\n",
    "    else:\n",
    "        print(\"String doesnt end with alphanumeric\")\n",
    "    \n",
    "user_input = input(\"Enter a string: \")\n",
    "alpha(user_input)"
   ]
  },
  {
   "cell_type": "markdown",
   "id": "b9e995bf",
   "metadata": {},
   "source": [
    "QUESTION 27-"
   ]
  },
  {
   "cell_type": "code",
   "execution_count": 25,
   "id": "41a3ddbb",
   "metadata": {},
   "outputs": [],
   "source": [
    "import re"
   ]
  },
  {
   "cell_type": "code",
   "execution_count": 28,
   "id": "0a8d957d",
   "metadata": {},
   "outputs": [
    {
     "name": "stdout",
     "output_type": "stream",
     "text": [
      "['#Doltiwal', '#xyzabc', '#Demonetization']\n"
     ]
    }
   ],
   "source": [
    "def hashtags(data):\n",
    "    pattern = re.findall(r\"#\\w+\", data)\n",
    "    return pattern\n",
    "\n",
    "sample_text = \"\"\"RT @kapil_kausik: #Doltiwal I mean #xyzabc is \"hurt\" by #Demonetization as the same has rendered USELESS <ed><U+00A0><U+00BD><ed><U+00B1><U+0089> \"acquired funds\" No wo\"\"\"\n",
    "result = hashtags(sample_text)\n",
    "\n",
    "print(result)"
   ]
  },
  {
   "cell_type": "markdown",
   "id": "3b5e4440",
   "metadata": {},
   "source": [
    "QUESTION 28-"
   ]
  },
  {
   "cell_type": "code",
   "execution_count": 29,
   "id": "eadd4f0a",
   "metadata": {},
   "outputs": [],
   "source": [
    "import re"
   ]
  },
  {
   "cell_type": "code",
   "execution_count": 38,
   "id": "a9e6f645",
   "metadata": {},
   "outputs": [
    {
     "name": "stdout",
     "output_type": "stream",
     "text": [
      "Expected output =  @Jags123456 Bharat band on 28??<ed><ed>Those who  are protesting #demonetization  are all different party leaders\n"
     ]
    }
   ],
   "source": [
    "def remove(data):\n",
    "    pattern = r\"<U\\+[0-9A-F]+>\"\n",
    "    new_text = re.sub(pattern, \"\", data)\n",
    "    return new_text\n",
    "\n",
    "sample_text = \"@Jags123456 Bharat band on 28??<ed><U+00A0><U+00BD><ed><U+00B8><U+0082>Those who  are protesting #demonetization  are all different party leaders\"\n",
    "result = remove(sample_text)\n",
    "\n",
    "print(\"Expected output = \", result)"
   ]
  },
  {
   "cell_type": "markdown",
   "id": "a9ba77b3",
   "metadata": {},
   "source": [
    "QUESTION 29-"
   ]
  },
  {
   "cell_type": "code",
   "execution_count": 39,
   "id": "81b62ea3",
   "metadata": {},
   "outputs": [],
   "source": [
    "import re"
   ]
  },
  {
   "cell_type": "code",
   "execution_count": 50,
   "id": "d794235e",
   "metadata": {},
   "outputs": [],
   "source": [
    "file_path = \"date extraction.txt\"\n",
    "with open(file_path, 'r') as file:\n",
    "    txt = file.read()"
   ]
  },
  {
   "cell_type": "code",
   "execution_count": 51,
   "id": "8eab70e2",
   "metadata": {},
   "outputs": [
    {
     "data": {
      "text/plain": [
       "'Ron was born on 12-09-1992 and he was admitted to school 15-12-1999.'"
      ]
     },
     "execution_count": 51,
     "metadata": {},
     "output_type": "execute_result"
    }
   ],
   "source": [
    "txt"
   ]
  },
  {
   "cell_type": "code",
   "execution_count": 54,
   "id": "f44dfe90",
   "metadata": {},
   "outputs": [
    {
     "name": "stdout",
     "output_type": "stream",
     "text": [
      "['12-09-1992', '15-12-1999']\n"
     ]
    }
   ],
   "source": [
    "pattern = \"\\d{2}[\\-]\\d{2}[\\-]\\d{4}\"\n",
    "result = re.findall(pattern, txt)\n",
    "print(result)"
   ]
  },
  {
   "cell_type": "markdown",
   "id": "ced90b69",
   "metadata": {},
   "source": [
    "QUESTION 30-"
   ]
  },
  {
   "cell_type": "code",
   "execution_count": 55,
   "id": "e13a8f12",
   "metadata": {},
   "outputs": [],
   "source": [
    "import re"
   ]
  },
  {
   "cell_type": "code",
   "execution_count": 57,
   "id": "2971f399",
   "metadata": {},
   "outputs": [],
   "source": [
    "def removal(str):\n",
    "    pattern = re.compile(r'\\b\\w{2,4}\\b')\n",
    "    result = pattern.sub('', str)\n",
    "    \n",
    "    return result\n",
    "\n",
    "sample_text = \"The following example creates an ArrayList with a capacity of 50 elements. 4 elements are then added to the ArrayList and the ArrayList is trimmed accordingly.\"\n",
    "answer = removal(sample_text)"
   ]
  },
  {
   "cell_type": "code",
   "execution_count": 58,
   "id": "501dc949",
   "metadata": {},
   "outputs": [
    {
     "data": {
      "text/plain": [
       "' following example creates  ArrayList  a capacity   elements. 4 elements   added   ArrayList   ArrayList  trimmed accordingly.'"
      ]
     },
     "execution_count": 58,
     "metadata": {},
     "output_type": "execute_result"
    }
   ],
   "source": [
    "answer"
   ]
  },
  {
   "cell_type": "markdown",
   "id": "654819bd",
   "metadata": {},
   "source": [
    "# THE END"
   ]
  },
  {
   "cell_type": "code",
   "execution_count": null,
   "id": "e72ce3f5",
   "metadata": {},
   "outputs": [],
   "source": []
  }
 ],
 "metadata": {
  "kernelspec": {
   "display_name": "Python 3 (ipykernel)",
   "language": "python",
   "name": "python3"
  },
  "language_info": {
   "codemirror_mode": {
    "name": "ipython",
    "version": 3
   },
   "file_extension": ".py",
   "mimetype": "text/x-python",
   "name": "python",
   "nbconvert_exporter": "python",
   "pygments_lexer": "ipython3",
   "version": "3.11.3"
  }
 },
 "nbformat": 4,
 "nbformat_minor": 5
}
